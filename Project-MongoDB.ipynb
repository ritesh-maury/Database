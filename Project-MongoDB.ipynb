{
 "cells": [
  {
   "cell_type": "markdown",
   "id": "a010d37d",
   "metadata": {},
   "source": [
    "# Registration  "
   ]
  },
  {
   "cell_type": "code",
   "execution_count": 1,
   "id": "750ddc6a",
   "metadata": {},
   "outputs": [],
   "source": [
    "def registrartion():\n",
    "    while True:\n",
    "        f_name = input(\"Enter your first name: \")\n",
    "        l_name = input(\"Enter your last name: \")\n",
    "        city = input(\"Enter your City: \")\n",
    "\n",
    "        import random\n",
    "        import getpass\n",
    "        account_number = random.randrange(1111110000,1111119999)\n",
    "\n",
    "        username = input(\"Enter your username: \")\n",
    "\n",
    "        a = collection.find()\n",
    "        for i in a:\n",
    "            if i.get(\"Username\")==username:\n",
    "                print(\"username already exist!\")\n",
    "                break\n",
    "            else:\n",
    "                continue\n",
    "\n",
    "        password1 = getpass.getpass(\"Enter your password: \")\n",
    "        password2 = getpass.getpass(\"Enter your password again: \")\n",
    "\n",
    "        if password1==password2:\n",
    "            print(\"Confirmed!\")\n",
    "\n",
    "            amount = float(input(\"Enter amount (min: 4000) =\"))\n",
    "            if amount>=4000:\n",
    "                print(\"done!\")\n",
    "                data = {\"FName\":f_name,\"LName\":l_name,\"AccountNo\":account_number,\"Username\":username,\"Password\":password1,\"Amount\":amount}\n",
    "                collection.insert_one(data)\n",
    "                print(\"Your account is successfully open, welcome to ABC bank!!!!\")\n",
    "                break\n",
    "\n",
    "            else:\n",
    "                print(\"Un-sufficient balance please deposit at least 4k\")\n",
    "\n",
    "        else:\n",
    "            print(\"Password is not matched!\")"
   ]
  },
  {
   "cell_type": "markdown",
   "id": "45b88f58",
   "metadata": {},
   "source": [
    "# login"
   ]
  },
  {
   "cell_type": "code",
   "execution_count": 36,
   "id": "5eeb5113",
   "metadata": {},
   "outputs": [],
   "source": [
    "def login():\n",
    "    global rt1,rt2\n",
    "    rt1 = \"\"\n",
    "    rt1 = \"\"\n",
    "    count = 4\n",
    "    users = [list(collection.find())[i][\"Username\"] for i in range(len(list(collection.find())))]\n",
    "    while True:\n",
    "        user = input(\"Enter your username: \")\n",
    "        if user in users:\n",
    "            passwd = input(\"Enter your password: \")\n",
    "            ind = users.index(user)\n",
    "\n",
    "            if passwd == list(collection.find())[ind][\"Password\"]:\n",
    "                print(\"Login Succussfully!!!!!\")\n",
    "                rt1 = \"done\"\n",
    "                rt2 = user\n",
    "                break\n",
    "                \n",
    "            elif count==0:\n",
    "                print(\"Account is blocked for 24hrs \")\n",
    "                break\n",
    "            else:\n",
    "                print(\"Wrong password: !!!!!\")\n",
    "                count-=1\n",
    "                print(\"Please try again........, Remaining attempts: \",count)\n",
    "\n",
    "        elif count==0:\n",
    "            print(\"Account is blocked for 24hrs \")\n",
    "            break\n",
    "        else:\n",
    "            print(\"Wrong username!!!!\")\n",
    "            count-=1\n",
    "            print(\"Please try again........Remaining attempts: \",count)"
   ]
  },
  {
   "cell_type": "markdown",
   "id": "6a08a1f3",
   "metadata": {},
   "source": [
    "# Show Details"
   ]
  },
  {
   "cell_type": "code",
   "execution_count": 25,
   "id": "aca2fd35",
   "metadata": {},
   "outputs": [],
   "source": [
    "def show_details(us):\n",
    "    ind = users.index(us)\n",
    "    amt = list(collection.find())[ind][\"Amount\"]\n",
    "    fname = list(collection.find())[ind][\"FName\"]\n",
    "    lname = list(collection.find())[ind][\"LName\"]\n",
    "    acc_no = list(collection.find())[ind][\"AccountNo\"]\n",
    "\n",
    "\n",
    "    print(\"---------------- Account Details ---------------\")\n",
    "    print(\"Name: \",fname,lname)\n",
    "    print(\"Account Number: \",acc_no)\n",
    "    print(\"Balance: \",amt)"
   ]
  },
  {
   "cell_type": "markdown",
   "id": "00b7974d",
   "metadata": {},
   "source": [
    "# Withdrow money"
   ]
  },
  {
   "cell_type": "code",
   "execution_count": 57,
   "id": "dad7e210",
   "metadata": {},
   "outputs": [],
   "source": [
    "def withdrow(us):\n",
    "    ind = users.index(us)\n",
    "    amt = list(collection.find())[ind][\"Amount\"]\n",
    "    fname = list(collection.find())[ind][\"FName\"]\n",
    "\n",
    "    \n",
    "\n",
    "    while True:\n",
    "        bal = int(input(\"Enter your withdrown amount: \"))\n",
    "        if bal%100==0:\n",
    "            if bal<amt:\n",
    "                amt = amt-bal\n",
    "\n",
    "\n",
    "                collection.update_one({\"Username\":us},{\"$set\":{\"Amount\":amt}})\n",
    "\n",
    "                print(\"Withdrown successfully!!!\")\n",
    "\n",
    "                amt = list(collection.find())[ind][\"Amount\"]\n",
    "\n",
    "                print(\"Remaining Amount: \",amt)\n",
    "                break\n",
    "\n",
    "            else:\n",
    "                print(\"Unsufficient balance\")\n",
    "                \n",
    "\n",
    "        else:\n",
    "            print(\"Please put multiples of 100 Rs, 500Rs, 2000Rs\")\n"
   ]
  },
  {
   "cell_type": "markdown",
   "id": "4f3aa188",
   "metadata": {},
   "source": [
    "# Deposite Money"
   ]
  },
  {
   "cell_type": "code",
   "execution_count": 62,
   "id": "a9e6fe26",
   "metadata": {},
   "outputs": [],
   "source": [
    "def deposite(us):\n",
    "    ind = users.index(us)\n",
    "    amt = list(collection.find())[ind][\"Amount\"]\n",
    "    fname = list(collection.find())[ind][\"FName\"]\n",
    "\n",
    "    \n",
    "\n",
    "    while True:\n",
    "        bal = int(input(\"Enter your Deplosite amount: \"))\n",
    "        if bal%100==0:\n",
    "            amt = amt+bal\n",
    "\n",
    "\n",
    "            collection.update_one({\"Username\":us},{\"$set\":{\"Amount\":amt}})\n",
    "\n",
    "            print(\"Withdrown successfully!!!\")\n",
    "\n",
    "            amt = list(collection.find())[ind][\"Amount\"]\n",
    "\n",
    "            print(\"Remaining Amount: \",amt)\n",
    "            break\n",
    "\n",
    "        else:\n",
    "            print(\"Please put multiples of 100 Rs, 500Rs, 2000Rs\")"
   ]
  },
  {
   "cell_type": "markdown",
   "id": "5cdd325d",
   "metadata": {},
   "source": [
    "# Main Page"
   ]
  },
  {
   "cell_type": "code",
   "execution_count": 64,
   "id": "77b3906a",
   "metadata": {},
   "outputs": [
    {
     "name": "stdout",
     "output_type": "stream",
     "text": [
      "Connection Established\n",
      "------------ Welcome to ABC bank -----------------\n",
      "Please choose it :) \n",
      "1) Open Account \n",
      "2) Existing Account\n",
      "2\n",
      "Enter your username: kajal\n",
      "Enter your password: kajal123\n",
      "Login Succussfully!!!!!\n",
      "Please choose it :) \n",
      "1) Check account detail \n",
      "2) Withdrow Money \n",
      "3) Deposite Money\n",
      "1\n",
      "---------------- Account Details ---------------\n",
      "Name:  Kajal Singh\n",
      "Account Number:  1111117820\n",
      "Balance:  14000.0\n"
     ]
    }
   ],
   "source": [
    "import pymongo\n",
    "connect = pymongo.MongoClient(host=\"localhost\",port=27017)\n",
    "print(\"Connection Established\")\n",
    "\n",
    "\n",
    "database = connect[\"Banking\"]\n",
    "collection = database[\"Saving\"]\n",
    "\n",
    "print(\"------------ Welcome to ABC bank -----------------\")\n",
    "\n",
    "ask = input(\"Please choose it :) \\n1) Open Account \\n2) Existing Account\\n\")\n",
    "\n",
    "if ask==\"1\":\n",
    "    registrartion()\n",
    "\n",
    "elif ask==\"2\":\n",
    "    login()\n",
    "    \n",
    "    if rt1==\"done\":\n",
    "        ask2 = input(\"Please choose it :) \\n1) Check account detail \\n2) Withdrow Money \\n3) Deposite Money\\n\")\n",
    "        if ask2==\"1\":\n",
    "            show_details(rt2)\n",
    "        elif ask2==\"2\":\n",
    "            withdrow(rt2)\n",
    "        elif ask2==\"3\":\n",
    "            deposite(rt2)\n",
    "            \n",
    "        else:\n",
    "            print(\"Plase select 1 - 3\")\n",
    "            \n",
    "    else:\n",
    "        print(\"Wrong login credentials!!!!\")\n",
    "    \n",
    "    \n",
    "else:\n",
    "    print(\"Invalid!!!\")"
   ]
  }
 ],
 "metadata": {
  "kernelspec": {
   "display_name": "Python 3 (ipykernel)",
   "language": "python",
   "name": "python3"
  },
  "language_info": {
   "codemirror_mode": {
    "name": "ipython",
    "version": 3
   },
   "file_extension": ".py",
   "mimetype": "text/x-python",
   "name": "python",
   "nbconvert_exporter": "python",
   "pygments_lexer": "ipython3",
   "version": "3.9.7"
  }
 },
 "nbformat": 4,
 "nbformat_minor": 5
}
